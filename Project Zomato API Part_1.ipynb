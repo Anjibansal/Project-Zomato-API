{
 "cells": [
  {
   "cell_type": "markdown",
   "metadata": {},
   "source": [
    "<ol>\n",
    "<li><ul>For this project,the Zomato API is used.\n",
    "<li>Zomato APIs gives access to the freshest and most exhaustive information for over 1.5 million restaurants across 10,000 cities globally.</li></ul></li>\n",
    "<li><ul>Motivation for using Zomato API\n",
    "<li>By Collecting the data using Zomato API one can recommend restaurants on the basis of user’s affinity to specific cuisines, establishment types, locations, and price bands.</li>\n",
    "<li>It is easy to find out whether restaurant support online reservation or not.</li>\n",
    "<li>it is easy to find what is the most popular and/or exclusive/new at a given location & time.</li></ul></li></ol>"
   ]
  },
  {
   "cell_type": "markdown",
   "metadata": {},
   "source": [
    "# Importing libraries and modules"
   ]
  },
  {
   "cell_type": "code",
   "execution_count": 1,
   "metadata": {},
   "outputs": [],
   "source": [
    "import requests \n",
    "import json"
   ]
  },
  {
   "cell_type": "code",
   "execution_count": 2,
   "metadata": {},
   "outputs": [],
   "source": [
    "user_key = 'generated_api_key' # place the generated api key\n",
    "basic_api = 'https://developers.zomato.com/api/v2.1'\n",
    "h = {'User-agent':\"curl/7.43.0\",'Accept':'application/json','user-key':user_key}"
   ]
  },
  {
   "cell_type": "markdown",
   "metadata": {},
   "source": [
    "# Zomato cuisine related queries"
   ]
  },
  {
   "cell_type": "markdown",
   "metadata": {},
   "source": [
    "<h3>Mexican cuisine began about 9,000 years ago, when agricultural communities such as the Maya formed, domesticating maize, creating the standard process of corn nixtamalization, and establishing their foodways.User is a huge fan of ‘Mexican’ cuisine. Now using the Zomato API we want to analyse the best restaurant serving the Mexican Cuisine, their locations, and cost for two, etc.</h3>"
   ]
  },
  {
   "cell_type": "code",
   "execution_count": 3,
   "metadata": {},
   "outputs": [
    {
     "name": "stdout",
     "output_type": "stream",
     "text": [
      "Cuisine Id of Mexican is 73\n"
     ]
    }
   ],
   "source": [
    "#Fetching the cuisine_id of ‘Mexican’ cuisine using Zomato API.\n",
    "p ={'city_id':'1'}\n",
    "result = requests.get(basic_api + '/cuisines',headers=h,params=p)\n",
    "resultdata = result.json() \n",
    "resultdata = resultdata['cuisines']\n",
    "for i in resultdata:\n",
    "    ans = i['cuisine']['cuisine_name']\n",
    "    if ans == \"Mexican\":\n",
    "        print(\"Cuisine Id of Mexican is\",i['cuisine']['cuisine_id'])\n"
   ]
  },
  {
   "cell_type": "code",
   "execution_count": 4,
   "metadata": {},
   "outputs": [
    {
     "name": "stdout",
     "output_type": "stream",
     "text": [
      "Top 10 best-rated restaurant serving ‘Mexican’ cuisine present in Connaught Place:-\n",
      "Odeon Social\n",
      "Rating 4.7 Restaurant-id: 18246991\n",
      "----------\n",
      "38 Barracks\n",
      "Rating 4.7 Restaurant-id: 18241537\n",
      "----------\n",
      "Connaught Clubhouse\n",
      "Rating 4.6 Restaurant-id: 19295106\n",
      "----------\n",
      "Detroit\n",
      "Rating 4.5 Restaurant-id: 18625812\n",
      "----------\n",
      "Ministry Of Beer\n",
      "Rating 4.5 Restaurant-id: 18418277\n",
      "----------\n",
      "Chili's Grill & Bar\n",
      "Rating 4.5 Restaurant-id: 18537536\n",
      "----------\n",
      "Farzi Cafe\n",
      "Rating 4.3 Restaurant-id: 18233593\n",
      "----------\n",
      "Xero Degrees\n",
      "Rating 4.3 Restaurant-id: 18729557\n",
      "----------\n",
      "Lord Of The Drinks\n",
      "Rating 4.3 Restaurant-id: 312603\n",
      "----------\n",
      "Station Bar\n",
      "Rating 4.3 Restaurant-id: 18851371\n",
      "----------\n"
     ]
    }
   ],
   "source": [
    "#Fetching the top 10 best-rated restaurant serving ‘Mexican’ cuisine present in Connaught Place.\n",
    "p ={'entity_id':'104','entity_type':'subzone','cuisines':'73','sort':'rating','order':'desc'}\n",
    "result = requests.get(basic_api+'/search',headers=h,params=p)\n",
    "data = result.json()['restaurants']\n",
    "count = 0\n",
    "print(\"Top 10 best-rated restaurant serving ‘Mexican’ cuisine present in Connaught Place:-\")\n",
    "for i in data:\n",
    "    if count <= 9:\n",
    "        temp = i['restaurant']\n",
    "        print(temp['name'])\n",
    "        print(\"Rating\",temp['user_rating']['aggregate_rating'],\"Restaurant-id:\",temp['R']['res_id'])\n",
    "        print(\"----------\")\n",
    "        count += 1\n",
    "    else:\n",
    "        break"
   ]
  },
  {
   "cell_type": "code",
   "execution_count": 5,
   "metadata": {},
   "outputs": [
    {
     "name": "stdout",
     "output_type": "stream",
     "text": [
      "Best-rated restaurant for ‘Mexican’ cuisine with category type ‘ Cafes’ present in Connaught Place:-\n",
      "Xero Degrees\n",
      "Rating 4.3 Restaurant-id: 18729557\n",
      "Review by: Ananya Srivastava\n",
      "Review: Xero Degrees! Everyone loves it. The pasta and fries are to die for.  Particularly Cheesy peri peri fries and white sauce pasta.\n",
      "---------------------------\n",
      "The Art House Bar n Cafe\n",
      "Rating 4.2 Restaurant-id: 18863766\n",
      "Review by: Sarthak_satty\n",
      "Review: Absolutely loved the taste of food items. They were all mouth watering and we couldn't stop eating it, but wanted more as quantity was surprisingly extremely less\n",
      "---------------------------\n",
      "Chaayos - Meri Wali Chai\n",
      "Rating 4.1 Restaurant-id: 18237315\n",
      "Review by: Aditya\n",
      "Review: The ambience is too good this is a lovely place on first floor and have good behaviour staf only one thing is food and tea is not worth it but overall chaayos is the best for spending time and have amazing random lovable songs that's makes chaayos so cool ...\n",
      "---------------------------\n",
      "Cafe Delhi Heights\n",
      "Rating 4.0 Restaurant-id: 18579363\n",
      "Review by: Tanuj Grover\n",
      "Review: V beautiful white sauce pasta ♥️\n",
      "---------------------------\n",
      "Cafe Coffee Day - The Square\n",
      "Rating 3.8 Restaurant-id: 303034\n",
      "Review by: Charu Garg\n",
      "Review: Recently I went to this outlet of CCD in the heart of delhi, CP. The crowd was moderate here during the time of visit. The staff was well groomed and quick with the response. I enjoyed their special latte, cappuccino and pasta. The taste of everything was on point and everything was fresh. For the Sweet tooth we opted for Chocolate walnut brownie. It was served with the garnish of Chocolate syrup on top.\n",
      "---------------------------\n"
     ]
    }
   ],
   "source": [
    "#Fetching the best-rated restaurant for ‘Mexican’ cuisine with category type ‘ Cafes’ present in Connaught Place \n",
    "#and their latest review\n",
    "p ={'entity_id':'104','entity_type':'subzone','cuisines':'73','sort':'rating','order':'desc','category':'6'}\n",
    "result = requests.get(basic_api+'/search',headers=h,params=p)\n",
    "data = result.json()['restaurants']\n",
    "print(\"Best-rated restaurant for ‘Mexican’ cuisine with category type ‘ Cafes’ present in Connaught Place:-\")\n",
    "for i in data:\n",
    "    temp = i['restaurant']\n",
    "    print(temp['name'])\n",
    "    print(\"Rating\",temp['user_rating']['aggregate_rating'],\"Restaurant-id:\",temp['R']['res_id']) \n",
    "    p2 ={'res_id':temp['R']['res_id']}\n",
    "    result_2 = requests.get(basic_api+'/reviews',headers=h,params=p2)\n",
    "    latest_review = result_2.json()[\"user_reviews\"][0][\"review\"]\n",
    "    print(\"Review by:\",latest_review['user']['name'])\n",
    "    print(\"Review:\",latest_review['review_text'])\n",
    "    print(\"---------------------------\")\n",
    "    "
   ]
  },
  {
   "cell_type": "markdown",
   "metadata": {},
   "source": [
    "# Zomato Restaurant related queries"
   ]
  },
  {
   "cell_type": "markdown",
   "metadata": {},
   "source": [
    "<h3>736 AD is Brick-walled lounge bar serving international dishes and a range of cocktails and shooters.\n",
    "User has heard that restaurant 736 A.D is quite good. So Now we want to extract the information related to restaurant 736 A.D using Zomato API</h3> "
   ]
  },
  {
   "cell_type": "code",
   "execution_count": 6,
   "metadata": {},
   "outputs": [
    {
     "name": "stdout",
     "output_type": "stream",
     "text": [
      "Details about 736 A.D restaurant\n",
      "User Rating: 4.2\n",
      "Location: G-15/B, Vijay Nagar, New Delhi\n",
      "Average Cost for two: 1400\n",
      "Cuisines Served: North Indian, Continental, Italian, Chinese\n"
     ]
    }
   ],
   "source": [
    "#Fetching the details of restaurant 736 AD like user rating, average cost for two, cuisines and address of 736 AD\n",
    "p ={'res_id':18241524}\n",
    "result = requests.get(basic_api+'/restaurant',headers=h,params=p)\n",
    "data = result.json()\n",
    "print(\"Details about 736 A.D restaurant\")\n",
    "print(\"User Rating:\",data['user_rating']['aggregate_rating'])\n",
    "print(\"Location:\",data['location']['address'])\n",
    "print(\"Average Cost for two:\",data[\"average_cost_for_two\"])\n",
    "print(\"Cuisines Served:\", data['cuisines'])"
   ]
  },
  {
   "cell_type": "code",
   "execution_count": 7,
   "metadata": {},
   "outputs": [
    {
     "name": "stdout",
     "output_type": "stream",
     "text": [
      "736 A.D supports online table reservation\n"
     ]
    }
   ],
   "source": [
    "# inding whether online table reservation is supported in 736 AD or not\n",
    "p = {'res_id':18241524}\n",
    "result = requests.get(basic_api+'/restaurant',headers=h,params=p)\n",
    "data = result.json()\n",
    "#print(data)\n",
    "if data['is_table_reservation_supported'] == 1:\n",
    "    print('736 A.D supports online table reservation')\n",
    "else:\n",
    "    print(\"736 A.D doesn't support online table reservation\")\n"
   ]
  },
  {
   "cell_type": "code",
   "execution_count": 8,
   "metadata": {},
   "outputs": [
    {
     "name": "stdout",
     "output_type": "stream",
     "text": [
      "Review by: Gastronomic_himanshu\n",
      "Review: This cafe n bar could be a nice choice for a quick round of drinks and snacks as the service was comparatively fast. The food quality was nice however, the ambience has got scope of improvement. The prices were justified and staff was courteous.\n"
     ]
    }
   ],
   "source": [
    "#Fetching the latest review of restaurant 736 AD \n",
    "p = {'res_id':18241524}\n",
    "result = requests.get(basic_api+'/reviews',headers=h,params=p)\n",
    "latest_review = result.json()[\"user_reviews\"][0][\"review\"]\n",
    "print(\"Review by:\",latest_review['user']['name'])\n",
    "print(\"Review:\",latest_review['review_text'])"
   ]
  },
  {
   "cell_type": "markdown",
   "metadata": {},
   "source": [
    "# Zomato distance related queries"
   ]
  },
  {
   "cell_type": "markdown",
   "metadata": {},
   "source": [
    "<h3>Distance is also a very important factor while selecting a restaurant. Suppose user is at Coding Ninjas and we want to select the restaurant which is near to user using Zomato API.(Note down the latitude and longitude of location using Google Maps)</h3>"
   ]
  },
  {
   "cell_type": "code",
   "execution_count": 9,
   "metadata": {},
   "outputs": [
    {
     "name": "stdout",
     "output_type": "stream",
     "text": [
      "Top 10 restaurants serving cuisine ‘BBQ’ which are nearest to Coding Ninjas\n",
      "Themis Barbecue House\n",
      "Rating 4.5 Restaurant-id: 18204820\n",
      "Location: Netaji Subhash Place\n",
      "----------\n",
      "Barbeque Nation\n",
      "Rating 4.1 Restaurant-id: 9561\n",
      "Location: Netaji Subhash Place\n",
      "----------\n",
      "New Bombay Bar-Be-Que\n",
      "Rating 3.6 Restaurant-id: 5303\n",
      "Location: Prashant Vihar\n",
      "----------\n",
      "UBQ by Barbeque Nation\n",
      "Rating 3.7 Restaurant-id: 19082741\n",
      "Location: Lawrence Road\n",
      "----------\n",
      "Moet's Barbeque\n",
      "Rating 0 Restaurant-id: 19238917\n",
      "Location: Alipur\n",
      "----------\n",
      "UBQ by Barbeque Nation\n",
      "Rating 3.8 Restaurant-id: 18889760\n",
      "Location: Rohini\n",
      "----------\n",
      "Kays Bar-Be-Que\n",
      "Rating 3.8 Restaurant-id: 3079\n",
      "Location: Ashok Vihar Phase 1\n",
      "----------\n",
      "7teen BBQ Bistro Bnq\n",
      "Rating 3.8 Restaurant-id: 18595610\n",
      "Location: Moti Nagar\n",
      "----------\n",
      "Pishori Chicken\n",
      "Rating 0 Restaurant-id: 19061375\n",
      "Location: Kirti Nagar\n",
      "----------\n",
      "Hunger On Wheels\n",
      "Rating 0 Restaurant-id: 19054336\n",
      "Location: Vijay Nagar\n",
      "----------\n"
     ]
    }
   ],
   "source": [
    "#Fetching list of the top 10 restaurants serving cuisine ‘BBQ’ which are nearest to Coding Ninjas.\n",
    "p = {'lat':'28.697522','lon':'77.140681','cuisines':193,'sort':'real_distance','count':10}\n",
    "result = requests.get(basic_api+'/search',headers=h,params=p)\n",
    "data = result.json()['restaurants']\n",
    "print(\"Top 10 restaurants serving cuisine ‘BBQ’ which are nearest to Coding Ninjas\")\n",
    "for i in data:\n",
    "    temp = i['restaurant']\n",
    "    print(temp['name'])\n",
    "    print(\"Rating\",temp['user_rating']['aggregate_rating'],\"Restaurant-id:\",temp['R']['res_id']) \n",
    "    print(\"Location:\",temp['location']['locality'])\n",
    "    print(\"----------\")"
   ]
  },
  {
   "cell_type": "code",
   "execution_count": 10,
   "metadata": {},
   "outputs": [
    {
     "name": "stdout",
     "output_type": "stream",
     "text": [
      "Restaurant name: Themis Barbecue House and Rating: 4.5\n",
      "Review by: Sneha Basu\n",
      "Review: Themis barbeque,NSP is great place for food. I was here yesterday evening and was very glad . The delicious variety of snacks -paneer tikka, chicken tangdi,pizza,mutton kababs,chiken & fish tikka served was just very good with mocktails. The buffet was there for main course. Chiken, fish and mutton dishes are mouth watering. The ambience of the place enhance the taste with light music there. A good place in all respect for date,meet and a get-together. A open place there with live counter was new thing and was very good. The serve you drinks if you are fond of that and every thing in genuine rate. Pasty, Imarti ,chocolate cupcakes in desserts complete your meal here.  HIGHLY RECOMMENDED.\n"
     ]
    }
   ],
   "source": [
    "# Fetching latest review of the restaurant serving cuisine ‘BBQ’ which is most nearest to Coding ninjas\n",
    "p = {'lat':'28.697522','lon':'77.140681','cuisines':193,'sort':'real_distance','count':10}\n",
    "result = requests.get(basic_api+'/search',headers=h,params=p)\n",
    "data = result.json()['restaurants'][0]['restaurant']\n",
    "res_id = data['id']\n",
    "name = data[\"name\"]\n",
    "p2 = {'res_id':res_id}\n",
    "result_2 = requests.get(basic_api+'/reviews',headers=h,params=p2)\n",
    "latest_review = result_2.json()[\"user_reviews\"][0][\"review\"]\n",
    "print(\"Restaurant name:\",name, \"and Rating:\", data['user_rating']['aggregate_rating'])\n",
    "print(\"Review by:\",latest_review['user']['name'])\n",
    "print(\"Review:\",latest_review['review_text'])"
   ]
  },
  {
   "cell_type": "code",
   "execution_count": 11,
   "metadata": {},
   "outputs": [
    {
     "name": "stdout",
     "output_type": "stream",
     "text": [
      "Masia - Indian. Asian. Cultures\n",
      "Rating 4.9 Restaurant-id: 19274436\n",
      "Location: Sector 38\n",
      "----------\n",
      "Indian Accent\n",
      "Rating 4.9 Restaurant-id: 2004\n",
      "Location: The Lodhi, Lodhi Road\n",
      "----------\n",
      "Son Of A Bun\n",
      "Rating 4.9 Restaurant-id: 19300210\n",
      "Location: Golf Course Road\n",
      "----------\n",
      "Dana Choga\n",
      "Rating 4.9 Restaurant-id: 549\n",
      "Location: Sector 14\n",
      "----------\n",
      "The Yellow Chilli\n",
      "Rating 4.9 Restaurant-id: 1345\n",
      "Location: Pacific Mall, Sahibabad\n",
      "----------\n",
      "The Tandoori Tales\n",
      "Rating 4.9 Restaurant-id: 19231934\n",
      "Location: Sector 45\n",
      "----------\n",
      "Qwinny's\n",
      "Rating 4.8 Restaurant-id: 18636986\n",
      "Location: DLF Phase 4\n",
      "----------\n",
      "Hauz Khas Social\n",
      "Rating 4.8 Restaurant-id: 308322\n",
      "Location: Hauz Khas Village\n",
      "----------\n",
      "Ah So Yum\n",
      "Rating 4.8 Restaurant-id: 18945610\n",
      "Location: Golf Course Road\n",
      "----------\n",
      "Chili's Grill & Bar\n",
      "Rating 4.8 Restaurant-id: 4751\n",
      "Location: Ambience Mall, Vasant Kunj\n",
      "----------\n"
     ]
    }
   ],
   "source": [
    "#Fetching list of top 10 best-restaurant present in a radius of 4 km of coding ninjas\n",
    "p = {'lat':'28.705116','lon':'77.141161','sort':'rating','order':'desc','radius':'4000.00'}\n",
    "result = requests.get(basic_api+'/search',headers=h,params=p)\n",
    "data = result.json()['restaurants']\n",
    "count = 1\n",
    "for i in data:\n",
    "    temp = i['restaurant']\n",
    "    if count <= 10:\n",
    "        count += 1\n",
    "        print(temp['name'])\n",
    "        print(\"Rating\",temp['user_rating']['aggregate_rating'],\"Restaurant-id:\",temp['R']['res_id']) \n",
    "        print(\"Location:\",temp['location']['locality'])\n",
    "        print(\"----------\")    \n",
    "    else:\n",
    "        break"
   ]
  }
 ],
 "metadata": {
  "kernelspec": {
   "display_name": "Python 3",
   "language": "python",
   "name": "python3"
  },
  "language_info": {
   "codemirror_mode": {
    "name": "ipython",
    "version": 3
   },
   "file_extension": ".py",
   "mimetype": "text/x-python",
   "name": "python",
   "nbconvert_exporter": "python",
   "pygments_lexer": "ipython3",
   "version": "3.7.4"
  }
 },
 "nbformat": 4,
 "nbformat_minor": 2
}
